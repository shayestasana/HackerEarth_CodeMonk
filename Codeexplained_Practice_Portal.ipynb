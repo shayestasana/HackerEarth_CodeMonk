{
 "cells": [
  {
   "cell_type": "markdown",
   "metadata": {},
   "source": [
    "#### Intersection of 3 Sorted Arrays\n",
    "\n",
    "You are given three sorted arrays arr1, arr2 and arr3. Your task is to return a sorted array of elements that are common to all three arrays.\n",
    "\n",
    "**Input:**\n",
    "\n",
    "n1, n2, n3 - The lengths of arr1, arr2 and arr3 respectively\n",
    "\n",
    "arr1, arr2, arr3 - Three sorted arrays\n",
    "\n",
    "**Output:**\n",
    "\n",
    "A sorted array of numbers common to arr1, arr2 and arr3.\n",
    "\n",
    "**Constraints:**\n",
    "\n",
    "1 <=  arr1.length, arr2.length, arr3.length <= 1000\n",
    "\n",
    "1<= arr1[i], arr2[i], arr3[i] <= 2000\n",
    "\n",
    "There will be at least one element common in all three arrays.\n",
    "```\n",
    "SAMPLE INPUT \n",
    "5\n",
    "5\n",
    "5\n",
    "1 2 3 4 5\n",
    "1 3 4 5 8\n",
    "1 2 5 7 9\n",
    "SAMPLE OUTPUT \n",
    "1 5\n",
    "```"
   ]
  },
  {
   "cell_type": "code",
   "execution_count": 2,
   "metadata": {},
   "outputs": [
    {
     "name": "stdout",
     "output_type": "stream",
     "text": [
      "1 5\n"
     ]
    }
   ],
   "source": [
    "\n",
    "def array_intersection (n1, n2, n3, arr1, arr2, arr3):\n",
    "    i,j,k=0,0,0\n",
    "    res=[]\n",
    "    while i<n1 and j<n2 and k<n3:\n",
    "        if arr1[i]==arr2[j] and arr2[j]==arr3[k]:\n",
    "            res.append(arr1[i])\n",
    "            i+=1\n",
    "            j+=1\n",
    "            k+=1\n",
    "        elif arr1[i]<=arr2[j] and arr1[i]<=arr3[k]:\n",
    "            i+=1\n",
    "        elif arr2[j]<=arr1[i] and arr2[j]<=arr3[k]:\n",
    "            j+=1\n",
    "        else:\n",
    "            k+=1\n",
    "    return res\n",
    "\n",
    "n1 = int(input())\n",
    "n2 = int(input())\n",
    "n3 = int(input())\n",
    "arr1 = list(map(int, input().split()))\n",
    "arr2 = list(map(int, input().split()))\n",
    "arr3 = list(map(int, input().split()))\n",
    "\n",
    "out_ = array_intersection(n1, n2, n3, arr1, arr2, arr3)\n",
    "print (' '.join(map(str, out_)))"
   ]
  },
  {
   "cell_type": "code",
   "execution_count": null,
   "metadata": {},
   "outputs": [],
   "source": []
  }
 ],
 "metadata": {
  "kernelspec": {
   "display_name": "Python 3.9.12 ('base')",
   "language": "python",
   "name": "python3"
  },
  "language_info": {
   "codemirror_mode": {
    "name": "ipython",
    "version": 3
   },
   "file_extension": ".py",
   "mimetype": "text/x-python",
   "name": "python",
   "nbconvert_exporter": "python",
   "pygments_lexer": "ipython3",
   "version": "3.9.12"
  },
  "orig_nbformat": 4,
  "vscode": {
   "interpreter": {
    "hash": "ca8e1a675551e31a69bb80ae3f26b36ced6340b5d3941929fb9de856c408906a"
   }
  }
 },
 "nbformat": 4,
 "nbformat_minor": 2
}
