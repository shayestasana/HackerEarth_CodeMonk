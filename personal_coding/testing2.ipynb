{
 "cells": [
  {
   "cell_type": "markdown",
   "metadata": {},
   "source": [
    "### Chef and Two Strings"
   ]
  },
  {
   "cell_type": "code",
   "execution_count": 1,
   "metadata": {},
   "outputs": [
    {
     "name": "stdout",
     "output_type": "stream",
     "text": [
      "3 5\n"
     ]
    }
   ],
   "source": [
    "\n",
    "\n",
    "string_1=\"?abac\" #\"a?c\"\n",
    "string_2=\"aba?w\" #\"??b\"\n",
    "minimum_differences=0\n",
    "maximum_differences=0\n",
    "\n",
    "for i in range(0,len(string_1)):\n",
    "    if string_1[i] != '\\0':\n",
    "        if string_1[i] == '?' or string_2[i] == '?':\n",
    "            maximum_differences += 1\n",
    "        elif string_1[i] != string_2[i]:\n",
    "            minimum_differences += 1\n",
    "            maximum_differences += 1\n",
    "print(minimum_differences,maximum_differences)"
   ]
  },
  {
   "cell_type": "code",
   "execution_count": null,
   "metadata": {},
   "outputs": [],
   "source": [
    "T = int(input())\n",
    "for tc in range(T):\n",
    "    string_1= input()\n",
    "    string_2=input()\n",
    "    minimum_differences=0\n",
    "    maximum_differences=0\n",
    "\n",
    "    for i in range(0,len(string_1)):\n",
    "        if string_1[i] != '\\0':\n",
    "            if string_1[i] == '?' or string_2[i] == '?':\n",
    "                maximum_differences += 1\n",
    "            elif string_1[i] != string_2[i]:\n",
    "                minimum_differences += 1\n",
    "                maximum_differences += 1\n",
    "    print(minimum_differences,maximum_differences)"
   ]
  },
  {
   "cell_type": "code",
   "execution_count": null,
   "metadata": {},
   "outputs": [],
   "source": []
  }
 ],
 "metadata": {
  "kernelspec": {
   "display_name": "Python 3.9.12 ('base')",
   "language": "python",
   "name": "python3"
  },
  "language_info": {
   "codemirror_mode": {
    "name": "ipython",
    "version": 3
   },
   "file_extension": ".py",
   "mimetype": "text/x-python",
   "name": "python",
   "nbconvert_exporter": "python",
   "pygments_lexer": "ipython3",
   "version": "3.9.12"
  },
  "orig_nbformat": 4,
  "vscode": {
   "interpreter": {
    "hash": "ca8e1a675551e31a69bb80ae3f26b36ced6340b5d3941929fb9de856c408906a"
   }
  }
 },
 "nbformat": 4,
 "nbformat_minor": 2
}
